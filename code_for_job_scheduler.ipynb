{
  "nbformat": 4,
  "nbformat_minor": 0,
  "metadata": {
    "colab": {
      "provenance": [],
      "authorship_tag": "ABX9TyM8l/FVqdM0hfeeNKi1yXMn",
      "include_colab_link": true
    },
    "kernelspec": {
      "name": "python3",
      "display_name": "Python 3"
    },
    "language_info": {
      "name": "python"
    }
  },
  "cells": [
    {
      "cell_type": "markdown",
      "metadata": {
        "id": "view-in-github",
        "colab_type": "text"
      },
      "source": [
        "<a href=\"https://colab.research.google.com/github/anwitarajendra/Cron-like-Job-Scheduler/blob/main/code_for_job_scheduler.ipynb\" target=\"_parent\"><img src=\"https://colab.research.google.com/assets/colab-badge.svg\" alt=\"Open In Colab\"/></a>"
      ]
    },
    {
      "cell_type": "code",
      "execution_count": null,
      "metadata": {
        "colab": {
          "base_uri": "https://localhost:8080/"
        },
        "id": "2_GnWbh6EJrk",
        "outputId": "578df8d6-df49-4d99-f371-a98526c4e1c6"
      },
      "outputs": [
        {
          "output_type": "stream",
          "name": "stdout",
          "text": [
            "Simulated daemon started. Logging every 10 seconds...\n"
          ]
        }
      ],
      "source": [
        "import time\n",
        "from datetime import datetime\n",
        "\n",
        "LOG_FILE = \"/content/mini_cron.log\"\n",
        "\n",
        "def simulate_daemon():\n",
        "    print(\"Simulated daemon started. Logging every 10 seconds...\")\n",
        "    for _ in range(6):\n",
        "        now = datetime.now().strftime('%Y-%m-%d %H:%M:%S')\n",
        "        with open(LOG_FILE, 'a') as f:\n",
        "            f.write(f\"[{now}] Daemon is alive!\\n\")\n",
        "        time.sleep(10)\n",
        "\n",
        "simulate_daemon()\n"
      ]
    },
    {
      "cell_type": "code",
      "source": [
        "!cat /content/mini_cron.log\n"
      ],
      "metadata": {
        "colab": {
          "base_uri": "https://localhost:8080/"
        },
        "id": "XM2gtvE-Enm9",
        "outputId": "8d7c1946-673a-4b49-caa7-7c126a156e9d"
      },
      "execution_count": null,
      "outputs": [
        {
          "output_type": "stream",
          "name": "stdout",
          "text": [
            "[2025-08-06 11:08:19] Daemon is alive!\n",
            "[2025-08-06 11:08:29] Daemon is alive!\n",
            "[2025-08-06 11:08:39] Daemon is alive!\n",
            "[2025-08-06 11:08:49] Daemon is alive!\n",
            "[2025-08-06 11:08:59] Daemon is alive!\n",
            "[2025-08-06 11:09:09] Daemon is alive!\n"
          ]
        }
      ]
    },
    {
      "cell_type": "code",
      "source": [
        "\n",
        "job_file_content = \"\"\"\n",
        "*/1 * * * * echo \"Hi Anwita\"\n",
        "0 14 * * * python3 greet.py\n",
        "\"\"\"\n",
        "\n",
        "\n",
        "with open(\"/content/jobs.txt\", \"w\") as f:\n",
        "    f.write(job_file_content.strip())\n",
        "\n",
        "print(\"Created jobs.txt file with 2 scheduled tasks.\")\n"
      ],
      "metadata": {
        "colab": {
          "base_uri": "https://localhost:8080/"
        },
        "id": "eM9HQzNxFf2T",
        "outputId": "e8c72d87-e7b7-4899-d002-4687041488d3"
      },
      "execution_count": null,
      "outputs": [
        {
          "output_type": "stream",
          "name": "stdout",
          "text": [
            "Created jobs.txt file with 2 scheduled tasks.\n"
          ]
        }
      ]
    },
    {
      "cell_type": "code",
      "source": [
        "def parse_cron_line(line):\n",
        "    parts = line.strip().split()\n",
        "    if len(parts) < 6:\n",
        "        return None\n",
        "    schedule = parts[:5]\n",
        "    command = ' '.join(parts[5:])\n",
        "    return {\"schedule\": schedule, \"command\": command}\n",
        "\n",
        "def read_jobs_file(file_path):\n",
        "    jobs = []\n",
        "    with open(file_path, 'r') as f:\n",
        "        for line in f:\n",
        "            if line.strip() == \"\" or line.startswith(\"#\"):\n",
        "                continue\n",
        "            job = parse_cron_line(line)\n",
        "            if job:\n",
        "                jobs.append(job)\n",
        "    return jobs\n",
        "\n",
        "\n",
        "jobs = read_jobs_file(\"/content/jobs.txt\")\n",
        "\n",
        "for i, job in enumerate(jobs):\n",
        "    print(f\"Job {i+1}\")\n",
        "    print(f\"  Schedule: {job['schedule']}\")\n",
        "    print(f\"  Command:  {job['command']}\\n\")\n"
      ],
      "metadata": {
        "colab": {
          "base_uri": "https://localhost:8080/"
        },
        "id": "_CGno4_hFyzk",
        "outputId": "31c1a24a-57f3-4a60-ac5a-9b626c804d92"
      },
      "execution_count": null,
      "outputs": [
        {
          "output_type": "stream",
          "name": "stdout",
          "text": [
            "Job 1\n",
            "  Schedule: ['*/1', '*', '*', '*', '*']\n",
            "  Command:  echo \"Hi Anwita\"\n",
            "\n",
            "Job 2\n",
            "  Schedule: ['0', '14', '*', '*', '*']\n",
            "  Command:  python3 greet.py\n",
            "\n"
          ]
        }
      ]
    },
    {
      "cell_type": "code",
      "source": [
        "from datetime import datetime\n",
        "\n",
        "def match_field(value, field):\n",
        "    \"\"\"\n",
        "    value: int (current time unit like minute, hour)\n",
        "    field: str (from schedule, like '*', '*/2', '5', etc.)\n",
        "    \"\"\"\n",
        "    if field == '*':\n",
        "        return True\n",
        "    elif field.startswith('*/'):\n",
        "        try:\n",
        "            interval = int(field[2:])\n",
        "            return value % interval == 0\n",
        "        except:\n",
        "            return False\n",
        "    else:\n",
        "        try:\n",
        "            return value == int(field)\n",
        "        except:\n",
        "            return False\n",
        "\n",
        "def should_run_job(job, now):\n",
        "    schedule = job[\"schedule\"]\n",
        "    time_parts = [\n",
        "        now.minute,\n",
        "        now.hour,\n",
        "        now.day,\n",
        "        now.month,\n",
        "        now.weekday()\n",
        "    ]\n",
        "\n",
        "    for t_val, sched_val in zip(time_parts, schedule):\n",
        "        if not match_field(t_val, sched_val):\n",
        "            return False\n",
        "    return True\n",
        "\n",
        "\n",
        "now = datetime.now()\n",
        "print(f\"Current Time: {now.strftime('%Y-%m-%d %H:%M')}\")\n",
        "\n",
        "\n",
        "for job in jobs:\n",
        "    if should_run_job(job, now):\n",
        "        print(f\"RUN: {job['command']}\")\n",
        "    else:\n",
        "        print(f\"SKIP: {job['command']}\")\n"
      ],
      "metadata": {
        "colab": {
          "base_uri": "https://localhost:8080/"
        },
        "id": "uUGwy5xhGdei",
        "outputId": "b58f4d00-5cae-41af-a7c2-620dee284d33"
      },
      "execution_count": null,
      "outputs": [
        {
          "output_type": "stream",
          "name": "stdout",
          "text": [
            "Current Time: 2025-08-06 11:19\n",
            "RUN: echo \"Hi Anwita\"\n",
            "SKIP: python3 greet.py\n"
          ]
        }
      ]
    },
    {
      "cell_type": "code",
      "source": [
        "import subprocess\n",
        "import time\n",
        "from datetime import datetime\n",
        "\n",
        "LOG_FILE = \"/content/job_output.log\"\n",
        "\n",
        "def run_job(job):\n",
        "    command = job['command']\n",
        "    now = datetime.now().strftime('%Y-%m-%d %H:%M:%S')\n",
        "\n",
        "    try:\n",
        "\n",
        "        result = subprocess.run(\n",
        "            command, shell=True,\n",
        "            capture_output=True,\n",
        "            text=True\n",
        "        )\n",
        "\n",
        "\n",
        "        log_entry = f\"\\n[⏰ {now}] Command: {command}\\n\"\n",
        "        log_entry += f\"[STDOUT]\\n{result.stdout}\"\n",
        "        if result.stderr:\n",
        "            log_entry += f\"[STDERR]\\n{result.stderr}\"\n",
        "        log_entry += \"-\" * 40 + \"\\n\"\n",
        "\n",
        "        with open(LOG_FILE, 'a') as f:\n",
        "            f.write(log_entry)\n",
        "\n",
        "        print(f\"Ran: {command}\")\n",
        "    except Exception as e:\n",
        "        print(f\"Failed to run: {command}\")\n",
        "        print(str(e))\n",
        "\n",
        "\n",
        "print(\"Cron loop started (5 checks, 1 per minute)...\\n\")\n",
        "for _ in range(5):\n",
        "    now = datetime.now()\n",
        "    print(f\"Checking at {now.strftime('%H:%M')}\")\n",
        "\n",
        "    for job in jobs:\n",
        "        if should_run_job(job, now):\n",
        "            run_job(job)\n",
        "        else:\n",
        "            print(f\"Skipping: {job['command']}\")\n",
        "\n",
        "    time.sleep(60)\n"
      ],
      "metadata": {
        "colab": {
          "base_uri": "https://localhost:8080/"
        },
        "id": "wX0xlt0BGzxB",
        "outputId": "d5a1e2a3-444e-49f3-d2d9-a42442f559b2"
      },
      "execution_count": null,
      "outputs": [
        {
          "output_type": "stream",
          "name": "stdout",
          "text": [
            "Cron loop started (5 checks, 1 per minute)...\n",
            "\n",
            "Checking at 11:21\n",
            "Ran: echo \"Hi Anwita\"\n",
            "Skipping: python3 greet.py\n",
            "Checking at 11:22\n",
            "Ran: echo \"Hi Anwita\"\n",
            "Skipping: python3 greet.py\n",
            "Checking at 11:23\n",
            "Ran: echo \"Hi Anwita\"\n",
            "Skipping: python3 greet.py\n",
            "Checking at 11:24\n",
            "Ran: echo \"Hi Anwita\"\n",
            "Skipping: python3 greet.py\n",
            "Checking at 11:25\n",
            "Ran: echo \"Hi Anwita\"\n",
            "Skipping: python3 greet.py\n"
          ]
        }
      ]
    },
    {
      "cell_type": "code",
      "source": [
        "!cat /content/job_output.log\n"
      ],
      "metadata": {
        "colab": {
          "base_uri": "https://localhost:8080/"
        },
        "id": "eW5aNqgUId1a",
        "outputId": "6aa77b44-0b5b-41fc-e420-1a2457845e9f"
      },
      "execution_count": null,
      "outputs": [
        {
          "output_type": "stream",
          "name": "stdout",
          "text": [
            "\n",
            "[⏰ 2025-08-06 11:21:05] Command: echo \"Hi Anwita\"\n",
            "[STDOUT]\n",
            "Hi Anwita\n",
            "----------------------------------------\n",
            "\n",
            "[⏰ 2025-08-06 11:22:05] Command: echo \"Hi Anwita\"\n",
            "[STDOUT]\n",
            "Hi Anwita\n",
            "----------------------------------------\n",
            "\n",
            "[⏰ 2025-08-06 11:23:05] Command: echo \"Hi Anwita\"\n",
            "[STDOUT]\n",
            "Hi Anwita\n",
            "----------------------------------------\n",
            "\n",
            "[⏰ 2025-08-06 11:24:05] Command: echo \"Hi Anwita\"\n",
            "[STDOUT]\n",
            "Hi Anwita\n",
            "----------------------------------------\n",
            "\n",
            "[⏰ 2025-08-06 11:25:05] Command: echo \"Hi Anwita\"\n",
            "[STDOUT]\n",
            "Hi Anwita\n",
            "----------------------------------------\n"
          ]
        }
      ]
    },
    {
      "cell_type": "code",
      "source": [
        "import sqlite3\n",
        "\n",
        "# Connect (creates file if not exists)\n",
        "conn = sqlite3.connect(\"/content/cron_history.db\")\n",
        "cursor = conn.cursor()\n",
        "\n",
        "# Create table for job execution history\n",
        "cursor.execute(\"\"\"\n",
        "CREATE TABLE IF NOT EXISTS job_runs (\n",
        "    id INTEGER PRIMARY KEY AUTOINCREMENT,\n",
        "    timestamp TEXT,\n",
        "    command TEXT,\n",
        "    output TEXT,\n",
        "    error TEXT\n",
        ")\n",
        "\"\"\")\n",
        "conn.commit()\n",
        "conn.close()\n",
        "\n",
        "print(\"Database and table created.\")\n"
      ],
      "metadata": {
        "colab": {
          "base_uri": "https://localhost:8080/"
        },
        "id": "vSTRqWeIIxZt",
        "outputId": "9cd4478b-1461-4755-d2e4-cc9a8d26862c"
      },
      "execution_count": null,
      "outputs": [
        {
          "output_type": "stream",
          "name": "stdout",
          "text": [
            "Database and table created.\n"
          ]
        }
      ]
    },
    {
      "cell_type": "code",
      "source": [
        "import sqlite3\n",
        "\n",
        "\n",
        "conn = sqlite3.connect(\"scheduler.db\")\n",
        "cursor = conn.cursor()\n",
        "\n",
        "\n",
        "cursor.execute('''\n",
        "CREATE TABLE IF NOT EXISTS jobs (\n",
        "    id INTEGER PRIMARY KEY AUTOINCREMENT,\n",
        "    command TEXT NOT NULL,\n",
        "    schedule_type TEXT CHECK(schedule_type IN ('interval', 'daily')) NOT NULL,\n",
        "    interval_minutes INTEGER,\n",
        "    daily_time TEXT,\n",
        "    last_run TEXT\n",
        ")\n",
        "''')\n",
        "\n",
        "conn.commit()\n",
        "conn.close()\n",
        "\n",
        "print(\"Scheduler DB and table created successfully.\")\n"
      ],
      "metadata": {
        "colab": {
          "base_uri": "https://localhost:8080/"
        },
        "id": "1vp8gycZLWng",
        "outputId": "7a17b542-e79f-45b7-9359-013458a26959"
      },
      "execution_count": null,
      "outputs": [
        {
          "output_type": "stream",
          "name": "stdout",
          "text": [
            "Scheduler DB and table created successfully.\n"
          ]
        }
      ]
    },
    {
      "cell_type": "code",
      "source": [
        "from datetime import datetime\n",
        "\n",
        "conn = sqlite3.connect(\"scheduler.db\")\n",
        "cursor = conn.cursor()\n",
        "\n",
        "\n",
        "cursor.execute('''\n",
        "INSERT INTO jobs (command, schedule_type, interval_minutes, last_run)\n",
        "VALUES (?, 'interval', ?, ?)\n",
        "''', (\"print('Hello Anwita (interval)')\", 2, datetime.now().isoformat()))\n",
        "\n",
        "\n",
        "cursor.execute('''\n",
        "INSERT INTO jobs (command, schedule_type, daily_time, last_run)\n",
        "VALUES (?, 'daily', ?, ?)\n",
        "''', (\"print('Hello Anwita (daily)')\", \"16:30\", datetime.now().isoformat()))\n",
        "\n",
        "conn.commit()\n",
        "conn.close()\n",
        "\n",
        "print(\"Sample jobs inserted.\")\n"
      ],
      "metadata": {
        "colab": {
          "base_uri": "https://localhost:8080/"
        },
        "id": "FbrgpEHGLqit",
        "outputId": "2a09409e-ab9d-4eb6-a2da-e591acdf521e"
      },
      "execution_count": null,
      "outputs": [
        {
          "output_type": "stream",
          "name": "stdout",
          "text": [
            "Sample jobs inserted.\n"
          ]
        }
      ]
    },
    {
      "cell_type": "code",
      "source": [
        "conn = sqlite3.connect(\"scheduler.db\")\n",
        "cursor = conn.cursor()\n",
        "\n",
        "cursor.execute(\"SELECT * FROM jobs\")\n",
        "rows = cursor.fetchall()\n",
        "\n",
        "for row in rows:\n",
        "    print(row)\n",
        "\n",
        "conn.close()\n"
      ],
      "metadata": {
        "colab": {
          "base_uri": "https://localhost:8080/"
        },
        "id": "W8Ze01GTLy0q",
        "outputId": "1a7a0104-3d8f-4c18-e593-abdb8af07378"
      },
      "execution_count": null,
      "outputs": [
        {
          "output_type": "stream",
          "name": "stdout",
          "text": [
            "(1, \"print('🔁 Hello Anwita (interval)')\", 'interval', 2, None, '2025-08-06T11:40:44.880899')\n",
            "(2, \"print('🕑 Hello Anwita (daily)')\", 'daily', None, '16:30', '2025-08-06T11:40:44.882122')\n",
            "(3, \"print('Hello Anwita (interval)')\", 'interval', 2, None, '2025-08-06T11:40:54.711526')\n",
            "(4, \"print('Hello Anwita (daily)')\", 'daily', None, '16:30', '2025-08-06T11:40:54.712095')\n"
          ]
        }
      ]
    },
    {
      "cell_type": "code",
      "source": [
        "!pip install schedule\n"
      ],
      "metadata": {
        "colab": {
          "base_uri": "https://localhost:8080/"
        },
        "id": "CWhVXFmJL2or",
        "outputId": "2d46ef6f-8d3e-4dc5-dc50-06f72c715f01"
      },
      "execution_count": null,
      "outputs": [
        {
          "output_type": "stream",
          "name": "stdout",
          "text": [
            "Collecting schedule\n",
            "  Downloading schedule-1.2.2-py3-none-any.whl.metadata (3.8 kB)\n",
            "Downloading schedule-1.2.2-py3-none-any.whl (12 kB)\n",
            "Installing collected packages: schedule\n",
            "Successfully installed schedule-1.2.2\n"
          ]
        }
      ]
    },
    {
      "cell_type": "code",
      "source": [
        "import sqlite3\n",
        "import time\n",
        "import schedule\n",
        "from datetime import datetime, timedelta\n",
        "\n",
        "def run_job(command, job_id):\n",
        "    print(f\"Running Job ID {job_id} at {datetime.now().strftime('%H:%M:%S')}\")\n",
        "    try:\n",
        "        exec(command)\n",
        "    except Exception as e:\n",
        "        print(f\"Error running job {job_id}: {e}\")\n",
        "\n",
        "\n",
        "    conn = sqlite3.connect(\"scheduler.db\")\n",
        "    cursor = conn.cursor()\n",
        "    cursor.execute(\"UPDATE jobs SET last_run = ? WHERE id = ?\", (datetime.now().isoformat(), job_id))\n",
        "    conn.commit()\n",
        "    conn.close()\n",
        "\n",
        "def check_and_schedule_jobs():\n",
        "    conn = sqlite3.connect(\"scheduler.db\")\n",
        "    cursor = conn.cursor()\n",
        "    cursor.execute(\"SELECT id, command, schedule_type, interval_minutes, daily_time, last_run FROM jobs\")\n",
        "    jobs = cursor.fetchall()\n",
        "    conn.close()\n",
        "\n",
        "    for job in jobs:\n",
        "        job_id, command, schedule_type, interval_minutes, daily_time, last_run = job\n",
        "        now = datetime.now()\n",
        "\n",
        "        if schedule_type == \"interval\":\n",
        "            if last_run:\n",
        "                last_run_dt = datetime.fromisoformat(last_run)\n",
        "                if now - last_run_dt >= timedelta(minutes=interval_minutes):\n",
        "                    run_job(command, job_id)\n",
        "            else:\n",
        "                run_job(command, job_id)\n",
        "\n",
        "        elif schedule_type == \"daily\":\n",
        "            run_time = datetime.strptime(daily_time, \"%H:%M\").time()\n",
        "            if last_run:\n",
        "                last_run_dt = datetime.fromisoformat(last_run)\n",
        "                already_ran_today = last_run_dt.date() == now.date()\n",
        "                if not already_ran_today and now.time() >= run_time:\n",
        "                    run_job(command, job_id)\n",
        "            else:\n",
        "                if now.time() >= run_time:\n",
        "                    run_job(command, job_id)\n",
        "\n",
        "\n",
        "print(\"Cron-like Job Scheduler started. Press STOP on Colab to exit.\")\n",
        "while True:\n",
        "    check_and_schedule_jobs()\n",
        "    time.sleep(30)\n"
      ],
      "metadata": {
        "colab": {
          "base_uri": "https://localhost:8080/",
          "height": 1000
        },
        "id": "63uDmgR_MAIf",
        "outputId": "149ca604-28db-4e06-edcd-b28bc738ca6a"
      },
      "execution_count": null,
      "outputs": [
        {
          "output_type": "stream",
          "name": "stdout",
          "text": [
            "Cron-like Job Scheduler started. Press STOP on Colab to exit.\n",
            "Running Job ID 1 at 11:45:34\n",
            "🔁 Hello Anwita (interval)\n",
            "Running Job ID 3 at 11:45:34\n",
            "Hello Anwita (interval)\n",
            "Running Job ID 1 at 11:47:34\n",
            "🔁 Hello Anwita (interval)\n",
            "Running Job ID 3 at 11:47:34\n",
            "Hello Anwita (interval)\n",
            "Running Job ID 1 at 11:49:34\n",
            "🔁 Hello Anwita (interval)\n",
            "Running Job ID 3 at 11:49:34\n",
            "Hello Anwita (interval)\n",
            "Running Job ID 1 at 11:51:34\n",
            "🔁 Hello Anwita (interval)\n",
            "Running Job ID 3 at 11:51:34\n",
            "Hello Anwita (interval)\n",
            "Running Job ID 1 at 11:53:34\n",
            "🔁 Hello Anwita (interval)\n",
            "Running Job ID 3 at 11:53:34\n",
            "Hello Anwita (interval)\n",
            "Running Job ID 1 at 11:55:34\n",
            "🔁 Hello Anwita (interval)\n",
            "Running Job ID 3 at 11:55:34\n",
            "Hello Anwita (interval)\n",
            "Running Job ID 1 at 11:57:34\n",
            "🔁 Hello Anwita (interval)\n",
            "Running Job ID 3 at 11:57:34\n",
            "Hello Anwita (interval)\n",
            "Running Job ID 1 at 11:59:34\n",
            "🔁 Hello Anwita (interval)\n",
            "Running Job ID 3 at 11:59:34\n",
            "Hello Anwita (interval)\n",
            "Running Job ID 1 at 12:01:34\n",
            "🔁 Hello Anwita (interval)\n",
            "Running Job ID 3 at 12:01:34\n",
            "Hello Anwita (interval)\n",
            "Running Job ID 1 at 12:03:34\n",
            "🔁 Hello Anwita (interval)\n",
            "Running Job ID 3 at 12:03:34\n",
            "Hello Anwita (interval)\n",
            "Running Job ID 1 at 12:05:34\n",
            "🔁 Hello Anwita (interval)\n",
            "Running Job ID 3 at 12:05:34\n",
            "Hello Anwita (interval)\n",
            "Running Job ID 1 at 12:07:34\n",
            "🔁 Hello Anwita (interval)\n",
            "Running Job ID 3 at 12:07:34\n",
            "Hello Anwita (interval)\n",
            "Running Job ID 1 at 12:09:34\n",
            "🔁 Hello Anwita (interval)\n",
            "Running Job ID 3 at 12:09:34\n",
            "Hello Anwita (interval)\n",
            "Running Job ID 1 at 12:11:34\n",
            "🔁 Hello Anwita (interval)\n",
            "Running Job ID 3 at 12:11:34\n",
            "Hello Anwita (interval)\n",
            "Running Job ID 1 at 12:13:34\n",
            "🔁 Hello Anwita (interval)\n",
            "Running Job ID 3 at 12:13:34\n",
            "Hello Anwita (interval)\n",
            "Running Job ID 1 at 12:15:34\n",
            "🔁 Hello Anwita (interval)\n",
            "Running Job ID 3 at 12:15:34\n",
            "Hello Anwita (interval)\n",
            "Running Job ID 1 at 12:17:34\n",
            "🔁 Hello Anwita (interval)\n",
            "Running Job ID 3 at 12:17:34\n",
            "Hello Anwita (interval)\n",
            "Running Job ID 1 at 12:19:34\n",
            "🔁 Hello Anwita (interval)\n",
            "Running Job ID 3 at 12:19:34\n",
            "Hello Anwita (interval)\n",
            "Running Job ID 1 at 12:21:34\n",
            "🔁 Hello Anwita (interval)\n",
            "Running Job ID 3 at 12:21:34\n",
            "Hello Anwita (interval)\n",
            "Running Job ID 1 at 12:23:34\n",
            "🔁 Hello Anwita (interval)\n",
            "Running Job ID 3 at 12:23:34\n",
            "Hello Anwita (interval)\n",
            "Running Job ID 1 at 12:25:34\n",
            "🔁 Hello Anwita (interval)\n",
            "Running Job ID 3 at 12:25:34\n",
            "Hello Anwita (interval)\n",
            "Running Job ID 1 at 12:27:34\n",
            "🔁 Hello Anwita (interval)\n",
            "Running Job ID 3 at 12:27:34\n",
            "Hello Anwita (interval)\n",
            "Running Job ID 1 at 12:29:34\n",
            "🔁 Hello Anwita (interval)\n",
            "Running Job ID 3 at 12:29:34\n",
            "Hello Anwita (interval)\n",
            "Running Job ID 1 at 12:31:34\n",
            "🔁 Hello Anwita (interval)\n",
            "Running Job ID 3 at 12:31:34\n",
            "Hello Anwita (interval)\n",
            "Running Job ID 1 at 12:33:34\n",
            "🔁 Hello Anwita (interval)\n",
            "Running Job ID 3 at 12:33:34\n",
            "Hello Anwita (interval)\n",
            "Running Job ID 1 at 12:35:34\n",
            "🔁 Hello Anwita (interval)\n",
            "Running Job ID 3 at 12:35:34\n",
            "Hello Anwita (interval)\n",
            "Running Job ID 1 at 12:37:34\n",
            "🔁 Hello Anwita (interval)\n",
            "Running Job ID 3 at 12:37:34\n",
            "Hello Anwita (interval)\n",
            "Running Job ID 1 at 12:39:34\n",
            "🔁 Hello Anwita (interval)\n",
            "Running Job ID 3 at 12:39:34\n",
            "Hello Anwita (interval)\n",
            "Running Job ID 1 at 12:41:34\n",
            "🔁 Hello Anwita (interval)\n",
            "Running Job ID 3 at 12:41:34\n",
            "Hello Anwita (interval)\n",
            "Running Job ID 1 at 12:43:34\n",
            "🔁 Hello Anwita (interval)\n",
            "Running Job ID 3 at 12:43:34\n",
            "Hello Anwita (interval)\n",
            "Running Job ID 1 at 12:45:34\n",
            "🔁 Hello Anwita (interval)\n",
            "Running Job ID 3 at 12:45:34\n",
            "Hello Anwita (interval)\n",
            "Running Job ID 1 at 12:47:34\n",
            "🔁 Hello Anwita (interval)\n",
            "Running Job ID 3 at 12:47:34\n",
            "Hello Anwita (interval)\n",
            "Running Job ID 1 at 12:49:34\n",
            "🔁 Hello Anwita (interval)\n",
            "Running Job ID 3 at 12:49:34\n",
            "Hello Anwita (interval)\n",
            "Running Job ID 1 at 12:51:35\n",
            "🔁 Hello Anwita (interval)\n",
            "Running Job ID 3 at 12:51:35\n",
            "Hello Anwita (interval)\n",
            "Running Job ID 1 at 12:53:35\n",
            "🔁 Hello Anwita (interval)\n",
            "Running Job ID 3 at 12:53:35\n",
            "Hello Anwita (interval)\n",
            "Running Job ID 1 at 12:55:35\n",
            "🔁 Hello Anwita (interval)\n",
            "Running Job ID 3 at 12:55:35\n",
            "Hello Anwita (interval)\n",
            "Running Job ID 1 at 12:57:35\n",
            "🔁 Hello Anwita (interval)\n",
            "Running Job ID 3 at 12:57:35\n",
            "Hello Anwita (interval)\n",
            "Running Job ID 1 at 12:59:35\n",
            "🔁 Hello Anwita (interval)\n",
            "Running Job ID 3 at 12:59:35\n",
            "Hello Anwita (interval)\n",
            "Running Job ID 1 at 13:01:35\n",
            "🔁 Hello Anwita (interval)\n",
            "Running Job ID 3 at 13:01:35\n",
            "Hello Anwita (interval)\n",
            "Running Job ID 1 at 13:03:35\n",
            "🔁 Hello Anwita (interval)\n",
            "Running Job ID 3 at 13:03:35\n",
            "Hello Anwita (interval)\n",
            "Running Job ID 1 at 13:05:35\n",
            "🔁 Hello Anwita (interval)\n",
            "Running Job ID 3 at 13:05:35\n",
            "Hello Anwita (interval)\n",
            "Running Job ID 1 at 13:07:35\n",
            "🔁 Hello Anwita (interval)\n",
            "Running Job ID 3 at 13:07:35\n",
            "Hello Anwita (interval)\n",
            "Running Job ID 1 at 13:09:35\n",
            "🔁 Hello Anwita (interval)\n",
            "Running Job ID 3 at 13:09:35\n",
            "Hello Anwita (interval)\n",
            "Running Job ID 1 at 13:11:35\n",
            "🔁 Hello Anwita (interval)\n",
            "Running Job ID 3 at 13:11:35\n",
            "Hello Anwita (interval)\n",
            "Running Job ID 1 at 13:13:35\n",
            "🔁 Hello Anwita (interval)\n",
            "Running Job ID 3 at 13:13:35\n",
            "Hello Anwita (interval)\n",
            "Running Job ID 1 at 13:15:35\n",
            "🔁 Hello Anwita (interval)\n",
            "Running Job ID 3 at 13:15:35\n",
            "Hello Anwita (interval)\n",
            "Running Job ID 1 at 13:17:35\n",
            "🔁 Hello Anwita (interval)\n",
            "Running Job ID 3 at 13:17:35\n",
            "Hello Anwita (interval)\n",
            "Running Job ID 1 at 13:19:35\n",
            "🔁 Hello Anwita (interval)\n",
            "Running Job ID 3 at 13:19:35\n",
            "Hello Anwita (interval)\n",
            "Running Job ID 1 at 13:21:35\n",
            "🔁 Hello Anwita (interval)\n",
            "Running Job ID 3 at 13:21:35\n",
            "Hello Anwita (interval)\n",
            "Running Job ID 1 at 13:23:35\n",
            "🔁 Hello Anwita (interval)\n",
            "Running Job ID 3 at 13:23:35\n",
            "Hello Anwita (interval)\n",
            "Running Job ID 1 at 13:25:35\n",
            "🔁 Hello Anwita (interval)\n",
            "Running Job ID 3 at 13:25:35\n",
            "Hello Anwita (interval)\n"
          ]
        },
        {
          "output_type": "error",
          "ename": "KeyboardInterrupt",
          "evalue": "",
          "traceback": [
            "\u001b[0;31m---------------------------------------------------------------------------\u001b[0m",
            "\u001b[0;31mKeyboardInterrupt\u001b[0m                         Traceback (most recent call last)",
            "\u001b[0;32m/tmp/ipython-input-4006804504.py\u001b[0m in \u001b[0;36m<cell line: 0>\u001b[0;34m()\u001b[0m\n\u001b[1;32m     52\u001b[0m \u001b[0;32mwhile\u001b[0m \u001b[0;32mTrue\u001b[0m\u001b[0;34m:\u001b[0m\u001b[0;34m\u001b[0m\u001b[0;34m\u001b[0m\u001b[0m\n\u001b[1;32m     53\u001b[0m     \u001b[0mcheck_and_schedule_jobs\u001b[0m\u001b[0;34m(\u001b[0m\u001b[0;34m)\u001b[0m\u001b[0;34m\u001b[0m\u001b[0;34m\u001b[0m\u001b[0m\n\u001b[0;32m---> 54\u001b[0;31m     \u001b[0mtime\u001b[0m\u001b[0;34m.\u001b[0m\u001b[0msleep\u001b[0m\u001b[0;34m(\u001b[0m\u001b[0;36m30\u001b[0m\u001b[0;34m)\u001b[0m\u001b[0;34m\u001b[0m\u001b[0;34m\u001b[0m\u001b[0m\n\u001b[0m",
            "\u001b[0;31mKeyboardInterrupt\u001b[0m: "
          ]
        }
      ]
    }
  ]
}